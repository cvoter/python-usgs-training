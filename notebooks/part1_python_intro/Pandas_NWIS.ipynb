{
 "cells": [
  {
   "cell_type": "code",
   "execution_count": 2,
   "metadata": {},
   "outputs": [],
   "source": [
    "import pandas as pd\n",
    "import matplotlib.pyplot as plt\n",
    "%matplotlib inline\n",
    "import os\n",
    "import requests\n",
    "from matplotlib.backends.backend_pdf import PdfPages"
   ]
  },
  {
   "cell_type": "markdown",
   "metadata": {},
   "source": [
    "# Introduction to python for hydrologists &mdash; pandas\n",
    "\n",
    "\n",
    "## create a url to read in a single station"
   ]
  },
  {
   "cell_type": "code",
   "execution_count": 3,
   "metadata": {},
   "outputs": [],
   "source": [
    "url='http://waterservices.usgs.gov/nwis/gwlevels/?format=rdb,1.0&sites=430429089230301&startDT=1880-01-01&endDT=2018-01-01&siteType=GW'"
   ]
  },
  {
   "cell_type": "code",
   "execution_count": 4,
   "metadata": {},
   "outputs": [],
   "source": [
    "dv_file = requests.get(url)\n",
    "\n",
    "with open(os.path.join('data',\"430429089230301.dat\"), 'w') as ofp:\n",
    "    for carp in dv_file:\n",
    "        ofp.write(carp.decode())"
   ]
  },
  {
   "cell_type": "code",
   "execution_count": 5,
   "metadata": {},
   "outputs": [
    {
     "name": "stdout",
     "output_type": "stream",
     "text": [
      "# ---------------------------------- WARNING ----------------------------------------\n",
      "# Some of the data that you have obtained from this U.S. Geological Survey database may not\n",
      "# have received Director's approval.  Any such data values are qualified as provisional and\n",
      "# are subject to revision.  Provisional data are released on the condition that neither the\n",
      "# USGS nor the United States Government may be held liable for any damages resulting from its use.\n",
      "# Additional info: http://help.waterdata.usgs.gov/policies/provisional-data-statement\n",
      "#\n",
      "# File-format description:  http://help.waterdata.usgs.gov/faq/about-tab-delimited-output\n",
      "# Automated-retrieval info: http://help.waterdata.usgs.gov/faq/automated-retrievals\n",
      "#\n",
      "# Contact:   gs-w_support_nwisweb@usgs.gov\n",
      "# retrieved: 2019-11-20 10:43:32 -05:00\t(natwebvaas01)\n",
      "#\n",
      "# US Geological Survey groundwater levels\n",
      "#\n",
      "# Data for the following 1 site(s) are contained in this file\n",
      "#    USGS 430429089230301 DN-07/09E/23-0005\n",
      "# -----------------------------------------------------------------------------------\n",
      "#\n",
      "# The fields in this file include:\n",
      "# ---------------------------------\n",
      "# agency_cd     Agency code\n",
      "# site_no       USGS site number\n",
      "# site_tp_cd    Site type code\n",
      "# lev_dt        Date level measured\n",
      "# lev_tm        Time level measured\n",
      "# lev_tz_cd     Time datum\n",
      "# lev_va        Water-level value in feet below land surface\n",
      "# sl_lev_va     Water-level value in feet above specific vertical datum\n",
      "# sl_datum_cd   Referenced vertical datum\n",
      "# lev_status_cd Status\n",
      "# lev_agency_cd Measuring agency\n",
      "#\n",
      "# Referenced agency codes (lev_agency_cd) included in this output\n",
      "#\n",
      "#     \"\"         Not Determined\n",
      "#     USGS       U.S. Geological Survey\n",
      "#     WI001      Wisconsin Department of Natural Resources\n",
      "#     WI013      Wisconsin Department of Administration\n",
      "#\n",
      "# Referenced site type codes (site_tp_cd) included in this output\n",
      "#\n",
      "#     GW         Well\n",
      "#\n",
      "# Referenced water-level site status codes (lev_status_cd) included in this output\n",
      "#\n",
      "#     \"\"         The reported water-level measurement represents a static level\n",
      "#\n",
      "#\n",
      "agency_cd\tsite_no\tsite_tp_cd\tlev_dt\tlev_tm\tlev_tz_cd\tlev_va\tsl_lev_va\tsl_datum_cd\tlev_status_cd\tlev_agency_cd\n",
      "5s\t15s\t6s\t10d\t5d\t5s\t12s\t12s\t10s\t1s\t5s\n",
      "USGS\t430429089230301\tGW\t1946-07-21\t\tUTC\t105.28\n",
      "USGS\t430429089230301\tGW\t1946-08-12\t\tUTC\t102.91\n",
      "USGS\t430429089230301\tGW\t1946-09-11\t\tUTC\t102.28\n",
      "USGS\t430429089230301\tGW\t1946-11-13\t\tUTC\t102.05\n",
      "USGS\t430429089230301\tGW\t1947-01-07\t\tUTC\t101.63\n",
      "USGS\t430429089230301\tGW\t1947-02-15\t\tUTC\t100.75\n",
      "USGS\t430429089230301\tGW\t1947-03-18\t\tUTC\t100.11\n",
      "USGS\t430429089230301\tGW\t1947-03-24\t\tUTC\t99.62\n",
      "USGS\t430429089230301\tGW\t1947-04-14\t\tUTC\t98.13\n"
     ]
    }
   ],
   "source": [
    "import os\n",
    "import numpy as np\n",
    "NWISfilename = os.path.join('data',\"430429089230301.dat\")\n",
    "reconnoiter = open(NWISfilename, 'r').readlines()\n",
    "for i in np.arange(60):\n",
    "    print (reconnoiter[i].rstrip())"
   ]
  },
  {
   "cell_type": "code",
   "execution_count": 6,
   "metadata": {},
   "outputs": [
    {
     "name": "stdout",
     "output_type": "stream",
     "text": [
      "49\n"
     ]
    }
   ],
   "source": [
    "numhash = 0 #let's use the as the counter\n",
    "for line in reconnoiter:\n",
    "    if line.startswith('#'):\n",
    "        numhash +=1\n",
    "    else:\n",
    "        break\n",
    "        \n",
    "print (numhash)"
   ]
  },
  {
   "cell_type": "markdown",
   "metadata": {},
   "source": [
    "# Read in a time series of groundwater levels"
   ]
  },
  {
   "cell_type": "code",
   "execution_count": 7,
   "metadata": {},
   "outputs": [],
   "source": [
    "colnames = reconnoiter[numhash].rstrip().split()"
   ]
  },
  {
   "cell_type": "code",
   "execution_count": 8,
   "metadata": {},
   "outputs": [],
   "source": [
    "nwis_df = pd.read_csv(url,sep='\\t',\n",
    "                          skiprows = numhash+2,\n",
    "                          names = colnames,\n",
    "                          parse_dates = True,\n",
    "                          index_col = 3)"
   ]
  },
  {
   "cell_type": "code",
   "execution_count": 9,
   "metadata": {},
   "outputs": [
    {
     "data": {
      "text/html": [
       "<div>\n",
       "<style scoped>\n",
       "    .dataframe tbody tr th:only-of-type {\n",
       "        vertical-align: middle;\n",
       "    }\n",
       "\n",
       "    .dataframe tbody tr th {\n",
       "        vertical-align: top;\n",
       "    }\n",
       "\n",
       "    .dataframe thead th {\n",
       "        text-align: right;\n",
       "    }\n",
       "</style>\n",
       "<table border=\"1\" class=\"dataframe\">\n",
       "  <thead>\n",
       "    <tr style=\"text-align: right;\">\n",
       "      <th></th>\n",
       "      <th>agency_cd</th>\n",
       "      <th>site_no</th>\n",
       "      <th>site_tp_cd</th>\n",
       "      <th>lev_tm</th>\n",
       "      <th>lev_tz_cd</th>\n",
       "      <th>lev_va</th>\n",
       "      <th>sl_lev_va</th>\n",
       "      <th>sl_datum_cd</th>\n",
       "      <th>lev_status_cd</th>\n",
       "      <th>lev_agency_cd</th>\n",
       "    </tr>\n",
       "    <tr>\n",
       "      <th>lev_dt</th>\n",
       "      <th></th>\n",
       "      <th></th>\n",
       "      <th></th>\n",
       "      <th></th>\n",
       "      <th></th>\n",
       "      <th></th>\n",
       "      <th></th>\n",
       "      <th></th>\n",
       "      <th></th>\n",
       "      <th></th>\n",
       "    </tr>\n",
       "  </thead>\n",
       "  <tbody>\n",
       "    <tr>\n",
       "      <th>1946-07-21</th>\n",
       "      <td>USGS</td>\n",
       "      <td>430429089230301</td>\n",
       "      <td>GW</td>\n",
       "      <td>NaN</td>\n",
       "      <td>UTC</td>\n",
       "      <td>105.28</td>\n",
       "      <td>NaN</td>\n",
       "      <td>NaN</td>\n",
       "      <td>NaN</td>\n",
       "      <td>NaN</td>\n",
       "    </tr>\n",
       "    <tr>\n",
       "      <th>1946-08-12</th>\n",
       "      <td>USGS</td>\n",
       "      <td>430429089230301</td>\n",
       "      <td>GW</td>\n",
       "      <td>NaN</td>\n",
       "      <td>UTC</td>\n",
       "      <td>102.91</td>\n",
       "      <td>NaN</td>\n",
       "      <td>NaN</td>\n",
       "      <td>NaN</td>\n",
       "      <td>NaN</td>\n",
       "    </tr>\n",
       "    <tr>\n",
       "      <th>1946-09-11</th>\n",
       "      <td>USGS</td>\n",
       "      <td>430429089230301</td>\n",
       "      <td>GW</td>\n",
       "      <td>NaN</td>\n",
       "      <td>UTC</td>\n",
       "      <td>102.28</td>\n",
       "      <td>NaN</td>\n",
       "      <td>NaN</td>\n",
       "      <td>NaN</td>\n",
       "      <td>NaN</td>\n",
       "    </tr>\n",
       "    <tr>\n",
       "      <th>1946-11-13</th>\n",
       "      <td>USGS</td>\n",
       "      <td>430429089230301</td>\n",
       "      <td>GW</td>\n",
       "      <td>NaN</td>\n",
       "      <td>UTC</td>\n",
       "      <td>102.05</td>\n",
       "      <td>NaN</td>\n",
       "      <td>NaN</td>\n",
       "      <td>NaN</td>\n",
       "      <td>NaN</td>\n",
       "    </tr>\n",
       "    <tr>\n",
       "      <th>1947-01-07</th>\n",
       "      <td>USGS</td>\n",
       "      <td>430429089230301</td>\n",
       "      <td>GW</td>\n",
       "      <td>NaN</td>\n",
       "      <td>UTC</td>\n",
       "      <td>101.63</td>\n",
       "      <td>NaN</td>\n",
       "      <td>NaN</td>\n",
       "      <td>NaN</td>\n",
       "      <td>NaN</td>\n",
       "    </tr>\n",
       "  </tbody>\n",
       "</table>\n",
       "</div>"
      ],
      "text/plain": [
       "           agency_cd          site_no site_tp_cd lev_tm lev_tz_cd  lev_va  \\\n",
       "lev_dt                                                                      \n",
       "1946-07-21      USGS  430429089230301         GW    NaN       UTC  105.28   \n",
       "1946-08-12      USGS  430429089230301         GW    NaN       UTC  102.91   \n",
       "1946-09-11      USGS  430429089230301         GW    NaN       UTC  102.28   \n",
       "1946-11-13      USGS  430429089230301         GW    NaN       UTC  102.05   \n",
       "1947-01-07      USGS  430429089230301         GW    NaN       UTC  101.63   \n",
       "\n",
       "            sl_lev_va  sl_datum_cd  lev_status_cd lev_agency_cd  \n",
       "lev_dt                                                           \n",
       "1946-07-21        NaN          NaN            NaN           NaN  \n",
       "1946-08-12        NaN          NaN            NaN           NaN  \n",
       "1946-09-11        NaN          NaN            NaN           NaN  \n",
       "1946-11-13        NaN          NaN            NaN           NaN  \n",
       "1947-01-07        NaN          NaN            NaN           NaN  "
      ]
     },
     "execution_count": 9,
     "metadata": {},
     "output_type": "execute_result"
    }
   ],
   "source": [
    "nwis_df.head()"
   ]
  },
  {
   "cell_type": "code",
   "execution_count": 11,
   "metadata": {},
   "outputs": [
    {
     "data": {
      "text/plain": [
       "Int64Index([202, 224, 254, 317,   7,  46,  77,  83, 104, 132,\n",
       "            ...\n",
       "            337,   4,  32,  61,  94, 123, 186, 248, 310, 338],\n",
       "           dtype='int64', name='lev_dt', length=4086)"
      ]
     },
     "execution_count": 11,
     "metadata": {},
     "output_type": "execute_result"
    }
   ],
   "source": [
    "# This looks like Julian dates to me! But others say Julian dates should actually be days since 1970 or soemthing?\n",
    "nwis_df.index.dayofyear"
   ]
  },
  {
   "cell_type": "code",
   "execution_count": null,
   "metadata": {},
   "outputs": [],
   "source": []
  },
  {
   "cell_type": "code",
   "execution_count": 25,
   "metadata": {},
   "outputs": [
    {
     "data": {
      "text/plain": [
       "2432022.5"
      ]
     },
     "execution_count": 25,
     "metadata": {},
     "output_type": "execute_result"
    }
   ],
   "source": [
    "# This takes some finagling - julian.to_jd can only take a single value and must be a datetime, not a datetime index\n",
    "import julian\n",
    "julian_index = julian.to_jd(pd.to_datetime(nwis_df.index.values[0]), fmt = 'jd')\n",
    "julian_index"
   ]
  },
  {
   "cell_type": "code",
   "execution_count": 30,
   "metadata": {},
   "outputs": [
    {
     "data": {
      "text/html": [
       "<div>\n",
       "<style scoped>\n",
       "    .dataframe tbody tr th:only-of-type {\n",
       "        vertical-align: middle;\n",
       "    }\n",
       "\n",
       "    .dataframe tbody tr th {\n",
       "        vertical-align: top;\n",
       "    }\n",
       "\n",
       "    .dataframe thead th {\n",
       "        text-align: right;\n",
       "    }\n",
       "</style>\n",
       "<table border=\"1\" class=\"dataframe\">\n",
       "  <thead>\n",
       "    <tr style=\"text-align: right;\">\n",
       "      <th></th>\n",
       "      <th>agency_cd</th>\n",
       "      <th>site_no</th>\n",
       "      <th>site_tp_cd</th>\n",
       "      <th>lev_tm</th>\n",
       "      <th>lev_tz_cd</th>\n",
       "      <th>lev_va</th>\n",
       "      <th>sl_lev_va</th>\n",
       "      <th>sl_datum_cd</th>\n",
       "      <th>lev_status_cd</th>\n",
       "      <th>lev_agency_cd</th>\n",
       "    </tr>\n",
       "  </thead>\n",
       "  <tbody>\n",
       "    <tr>\n",
       "      <th>2440587.5</th>\n",
       "      <td>USGS</td>\n",
       "      <td>430429089230301</td>\n",
       "      <td>GW</td>\n",
       "      <td>NaN</td>\n",
       "      <td>UTC</td>\n",
       "      <td>105.28</td>\n",
       "      <td>NaN</td>\n",
       "      <td>NaN</td>\n",
       "      <td>NaN</td>\n",
       "      <td>NaN</td>\n",
       "    </tr>\n",
       "    <tr>\n",
       "      <th>2440587.5</th>\n",
       "      <td>USGS</td>\n",
       "      <td>430429089230301</td>\n",
       "      <td>GW</td>\n",
       "      <td>NaN</td>\n",
       "      <td>UTC</td>\n",
       "      <td>102.91</td>\n",
       "      <td>NaN</td>\n",
       "      <td>NaN</td>\n",
       "      <td>NaN</td>\n",
       "      <td>NaN</td>\n",
       "    </tr>\n",
       "    <tr>\n",
       "      <th>2440587.5</th>\n",
       "      <td>USGS</td>\n",
       "      <td>430429089230301</td>\n",
       "      <td>GW</td>\n",
       "      <td>NaN</td>\n",
       "      <td>UTC</td>\n",
       "      <td>102.28</td>\n",
       "      <td>NaN</td>\n",
       "      <td>NaN</td>\n",
       "      <td>NaN</td>\n",
       "      <td>NaN</td>\n",
       "    </tr>\n",
       "    <tr>\n",
       "      <th>2440587.5</th>\n",
       "      <td>USGS</td>\n",
       "      <td>430429089230301</td>\n",
       "      <td>GW</td>\n",
       "      <td>NaN</td>\n",
       "      <td>UTC</td>\n",
       "      <td>102.05</td>\n",
       "      <td>NaN</td>\n",
       "      <td>NaN</td>\n",
       "      <td>NaN</td>\n",
       "      <td>NaN</td>\n",
       "    </tr>\n",
       "    <tr>\n",
       "      <th>2440587.5</th>\n",
       "      <td>USGS</td>\n",
       "      <td>430429089230301</td>\n",
       "      <td>GW</td>\n",
       "      <td>NaN</td>\n",
       "      <td>UTC</td>\n",
       "      <td>101.63</td>\n",
       "      <td>NaN</td>\n",
       "      <td>NaN</td>\n",
       "      <td>NaN</td>\n",
       "      <td>NaN</td>\n",
       "    </tr>\n",
       "  </tbody>\n",
       "</table>\n",
       "</div>"
      ],
      "text/plain": [
       "          agency_cd          site_no site_tp_cd lev_tm lev_tz_cd  lev_va  \\\n",
       "2440587.5      USGS  430429089230301         GW    NaN       UTC  105.28   \n",
       "2440587.5      USGS  430429089230301         GW    NaN       UTC  102.91   \n",
       "2440587.5      USGS  430429089230301         GW    NaN       UTC  102.28   \n",
       "2440587.5      USGS  430429089230301         GW    NaN       UTC  102.05   \n",
       "2440587.5      USGS  430429089230301         GW    NaN       UTC  101.63   \n",
       "\n",
       "           sl_lev_va  sl_datum_cd  lev_status_cd lev_agency_cd  \n",
       "2440587.5        NaN          NaN            NaN           NaN  \n",
       "2440587.5        NaN          NaN            NaN           NaN  \n",
       "2440587.5        NaN          NaN            NaN           NaN  \n",
       "2440587.5        NaN          NaN            NaN           NaN  \n",
       "2440587.5        NaN          NaN            NaN           NaN  "
      ]
     },
     "execution_count": 30,
     "metadata": {},
     "output_type": "execute_result"
    }
   ],
   "source": [
    "nwis_df.index = [julian.to_jd(i, fmt = 'jd') for i in pd.to_datetime(nwis_df.index.values)]\n",
    "nwis_df.head()"
   ]
  },
  {
   "cell_type": "code",
   "execution_count": null,
   "metadata": {},
   "outputs": [],
   "source": []
  },
  {
   "cell_type": "code",
   "execution_count": null,
   "metadata": {},
   "outputs": [],
   "source": []
  },
  {
   "cell_type": "markdown",
   "metadata": {},
   "source": [
    "## get rid of columns that are all NaN"
   ]
  },
  {
   "cell_type": "code",
   "execution_count": null,
   "metadata": {},
   "outputs": [],
   "source": [
    "nwis_df.dropna(axis=1,thresh=len(nwis_df), inplace=True)"
   ]
  },
  {
   "cell_type": "code",
   "execution_count": null,
   "metadata": {},
   "outputs": [],
   "source": [
    "nwis_df.head()"
   ]
  },
  {
   "cell_type": "code",
   "execution_count": null,
   "metadata": {},
   "outputs": [],
   "source": [
    "nwis_df.lev_va.plot()"
   ]
  },
  {
   "cell_type": "markdown",
   "metadata": {},
   "source": [
    "## resample"
   ]
  },
  {
   "cell_type": "code",
   "execution_count": null,
   "metadata": {},
   "outputs": [],
   "source": [
    "nwis_df.lev_va.resample('M').mean().plot(style='.')"
   ]
  },
  {
   "cell_type": "code",
   "execution_count": null,
   "metadata": {},
   "outputs": [],
   "source": [
    "nwis_df.lev_va.resample('A').mean().plot(style='.')"
   ]
  },
  {
   "cell_type": "markdown",
   "metadata": {},
   "source": [
    "## aggregate"
   ]
  },
  {
   "cell_type": "code",
   "execution_count": null,
   "metadata": {},
   "outputs": [],
   "source": [
    "fig = plt.figure(figsize=(12,4))\n",
    "\n",
    "mean_lev = nwis_df.lev_va.groupby(nwis_df.index.year).mean()\n",
    "lower_CI = mean_lev - 2*nwis_df.lev_va.groupby(nwis_df.index.year).std()\n",
    "upper_CI = mean_lev + 2*nwis_df.lev_va.groupby(nwis_df.index.year).std()\n",
    "ax = mean_lev.plot(style='r.-')\n",
    "plt.fill_between(lower_CI.index,lower_CI,upper_CI, color='r',alpha = 0.2)"
   ]
  },
  {
   "cell_type": "code",
   "execution_count": null,
   "metadata": {},
   "outputs": [],
   "source": [
    "fig = plt.figure(figsize=(12,4))\n",
    "nwis_df.lev_va.groupby(nwis_df.index.year).count().plot(kind='bar',rot=45)"
   ]
  },
  {
   "cell_type": "markdown",
   "metadata": {},
   "source": [
    "## navigate"
   ]
  },
  {
   "cell_type": "code",
   "execution_count": null,
   "metadata": {},
   "outputs": [],
   "source": [
    "nwis_df.loc[nwis_df.index.year<1950].lev_va.plot()"
   ]
  },
  {
   "cell_type": "code",
   "execution_count": null,
   "metadata": {},
   "outputs": [],
   "source": [
    "nwis_df.loc[(nwis_df.index.year<1950) & (nwis_df.index.year>1948)].lev_va.plot()"
   ]
  },
  {
   "cell_type": "markdown",
   "metadata": {},
   "source": [
    "## set values"
   ]
  },
  {
   "cell_type": "code",
   "execution_count": null,
   "metadata": {},
   "outputs": [],
   "source": [
    "nwis_df.loc[(nwis_df.index.year<1950) & (nwis_df.index.year>1948), 'lev_va'] += 100"
   ]
  },
  {
   "cell_type": "code",
   "execution_count": null,
   "metadata": {},
   "outputs": [],
   "source": [
    "nwis_df.lev_va.plot()"
   ]
  },
  {
   "cell_type": "markdown",
   "metadata": {},
   "source": [
    "## groupby"
   ]
  },
  {
   "cell_type": "code",
   "execution_count": null,
   "metadata": {
    "scrolled": true
   },
   "outputs": [],
   "source": [
    "with PdfPages(os.path.join('data','allyears.pdf')) as outpdf:\n",
    "    for cname,cgroup in nwis_df.groupby(nwis_df.index.year):\n",
    "        print(cname)\n",
    "        plt.figure()\n",
    "        cgroup.lev_va.plot(title=cname)\n",
    "        outpdf.savefig()\n",
    "        plt.close('all')\n",
    "    "
   ]
  },
  {
   "cell_type": "code",
   "execution_count": null,
   "metadata": {},
   "outputs": [],
   "source": [
    "cgroup"
   ]
  }
 ],
 "metadata": {
  "kernelspec": {
   "display_name": "Python 3",
   "language": "python",
   "name": "python3"
  },
  "language_info": {
   "codemirror_mode": {
    "name": "ipython",
    "version": 3
   },
   "file_extension": ".py",
   "mimetype": "text/x-python",
   "name": "python",
   "nbconvert_exporter": "python",
   "pygments_lexer": "ipython3",
   "version": "3.7.3"
  }
 },
 "nbformat": 4,
 "nbformat_minor": 2
}
