{
 "cells": [
  {
   "cell_type": "markdown",
   "metadata": {},
   "source": [
    "# MODFLOW-6\n",
    "\n",
    "Complete rewrite, still in fortran, but completely object oriented. Motivation is largely that modules became less independent from one another, MODFLOW-6 tried to remove need for custom coupling codes, combine everthing under one hood.\n",
    "\n",
    "Features:\n",
    "\n",
    "* Regular or unstructured discretization grids\n",
    "* Local grid refinement (LGR), can embed areas of high resolution\n",
    "    * No limitations on parent, child, grandchild models, stacked or adjacent, more flexible than previous verisions of LGR\n",
    "* IDOMAIN allows layers to pinch out, improved efficiency & stability for inactive cells\n",
    "* XT3D does 3D anisotropy, can do the equivalend of \"ghost nodes\" (don't really know what these are)\n",
    "* Water Mover is a generalized package for transferring water from one MODFLOW package to another (\"provider\" and \"receiver\") subject to simple rules (e.g., water level). Makes it simpler for packages to interact.\n",
    "* Synthesizes capabilities of MODFLOW-NWT (newton formulation) and USG (unstructured grid), minimizes wetting and drying complications\n",
    "* Anything 2005 could do, you can do with MODFLOW-6\n",
    "\n",
    "Development efforts:\n",
    "\n",
    "* Generalized particle tracking\n",
    "* Modflow as a callable resource with BMI interface (USGS and Deltares). Maybe loose coupling available the end of FY2020? And a relatively small step to get to fully coupled from there?\n",
    "* Trying to release small things more frequently\n",
    "* Parallel processing\n",
    "\n",
    "Resources:\n",
    "\n",
    "* https://github.com/MODFLOW-USGS/executables\n",
    "* https://github.com/modflowpy/pymake\n",
    "* https://github.com/modflowpy/flopy/blob/develop/docs/notebook_examples.md"
   ]
  },
  {
   "cell_type": "code",
   "execution_count": null,
   "metadata": {},
   "outputs": [],
   "source": []
  }
 ],
 "metadata": {
  "kernelspec": {
   "display_name": "Python 3",
   "language": "python",
   "name": "python3"
  },
  "language_info": {
   "codemirror_mode": {
    "name": "ipython",
    "version": 3
   },
   "file_extension": ".py",
   "mimetype": "text/x-python",
   "name": "python",
   "nbconvert_exporter": "python",
   "pygments_lexer": "ipython3",
   "version": "3.7.3"
  }
 },
 "nbformat": 4,
 "nbformat_minor": 2
}
